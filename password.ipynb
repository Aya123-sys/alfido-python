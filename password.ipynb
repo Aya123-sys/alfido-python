{
 "cells": [
  {
   "cell_type": "code",
   "execution_count": 1,
   "id": "4cb114e4-b29d-4ebb-b331-1e9e830cc6e3",
   "metadata": {},
   "outputs": [
    {
     "data": {
      "text/plain": [
       "'4b&G8*.]p{=/'"
      ]
     },
     "execution_count": 1,
     "metadata": {},
     "output_type": "execute_result"
    }
   ],
   "source": [
    "import random\n",
    "import string\n",
    "\n",
    "def generate_password(length, include_digits, include_special_chars):\n",
    "    # Define character sets\n",
    "    lowercase_letters = string.ascii_lowercase\n",
    "    uppercase_letters = string.ascii_uppercase\n",
    "    digits = string.digits if include_digits else ''\n",
    "    special_chars = string.punctuation if include_special_chars else ''\n",
    "    all_chars = lowercase_letters + uppercase_letters + digits + special_chars\n",
    "    # Ensure the password length is at least 8 characters\n",
    "    length = max(10, length)\n",
    "    password = ''.join(random.choice(all_chars) for _ in range(length))\n",
    "    return password\n",
    "generate_password(length=12, include_digits=True, include_special_chars=True)    "
   ]
  },
  {
   "cell_type": "code",
   "execution_count": 2,
   "id": "a0dbf187-2641-4f72-98fa-880edf0b4811",
   "metadata": {},
   "outputs": [
    {
     "ename": "NameError",
     "evalue": "name 'password' is not defined",
     "output_type": "error",
     "traceback": [
      "\u001b[1;31m---------------------------------------------------------------------------\u001b[0m",
      "\u001b[1;31mNameError\u001b[0m                                 Traceback (most recent call last)",
      "Cell \u001b[1;32mIn[2], line 1\u001b[0m\n\u001b[1;32m----> 1\u001b[0m \u001b[38;5;28mprint\u001b[39m(\u001b[38;5;124m\"\u001b[39m\u001b[38;5;124mGenerated Password:\u001b[39m\u001b[38;5;124m\"\u001b[39m, \u001b[43mpassword\u001b[49m)\n",
      "\u001b[1;31mNameError\u001b[0m: name 'password' is not defined"
     ]
    }
   ],
   "source": [
    "print(\"Generated Password:\", password)"
   ]
  },
  {
   "cell_type": "code",
   "execution_count": null,
   "id": "8868bc17-356f-4d52-9710-7cf1fb5fd480",
   "metadata": {},
   "outputs": [],
   "source": []
  }
 ],
 "metadata": {
  "kernelspec": {
   "display_name": "Python 3 (ipykernel)",
   "language": "python",
   "name": "python3"
  },
  "language_info": {
   "codemirror_mode": {
    "name": "ipython",
    "version": 3
   },
   "file_extension": ".py",
   "mimetype": "text/x-python",
   "name": "python",
   "nbconvert_exporter": "python",
   "pygments_lexer": "ipython3",
   "version": "3.12.1"
  }
 },
 "nbformat": 4,
 "nbformat_minor": 5
}
