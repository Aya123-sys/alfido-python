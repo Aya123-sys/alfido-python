{
 "cells": [
  {
   "cell_type": "code",
   "execution_count": 1,
   "id": "4cb114e4-b29d-4ebb-b331-1e9e830cc6e3",
   "metadata": {},
   "outputs": [],
   "source": [
    "import random\n",
    "import string\n",
    "\n",
    "def generate_password(length, include_digits, include_special_chars):\n",
    "    # Define character sets\n",
    "    lowercase_letters = string.ascii_lowercase\n",
    "    uppercase_letters = string.ascii_uppercase\n",
    "    digits = string.digits if include_digits else ''\n",
    "    special_chars = string.punctuation if include_special_chars else ''\n",
    "    all_chars = lowercase_letters + uppercase_letters + digits + special_chars\n",
    "    # Ensure the password length is at least 8 characters\n",
    "    length = max(10, length)\n",
    "    password = ''.join(random.choice(all_chars) for _ in range(length))\n",
    "    return password\n",
    "password=generate_password(length=12, include_digits=True, include_special_chars=True)    "
   ]
  },
  {
   "cell_type": "code",
   "execution_count": 2,
   "id": "a0dbf187-2641-4f72-98fa-880edf0b4811",
   "metadata": {},
   "outputs": [
    {
     "name": "stdout",
     "output_type": "stream",
     "text": [
      "Generated Password: $ae4CMPPa~Hx\n"
     ]
    }
   ],
   "source": [
    "print(\"Generated Password:\", password)"
   ]
  },
  {
   "cell_type": "code",
   "execution_count": null,
   "id": "8868bc17-356f-4d52-9710-7cf1fb5fd480",
   "metadata": {},
   "outputs": [],
   "source": []
  }
 ],
 "metadata": {
  "kernelspec": {
   "display_name": "Python 3 (ipykernel)",
   "language": "python",
   "name": "python3"
  },
  "language_info": {
   "codemirror_mode": {
    "name": "ipython",
    "version": 3
   },
   "file_extension": ".py",
   "mimetype": "text/x-python",
   "name": "python",
   "nbconvert_exporter": "python",
   "pygments_lexer": "ipython3",
   "version": "3.12.1"
  }
 },
 "nbformat": 4,
 "nbformat_minor": 5
}
